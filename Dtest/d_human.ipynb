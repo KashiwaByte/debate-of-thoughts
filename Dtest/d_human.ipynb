{
 "cells": [
  {
   "cell_type": "code",
   "execution_count": null,
   "metadata": {},
   "outputs": [],
   "source": [
    "#!/usr/bin/env python\n",
    "# -*- coding: utf-8 -*-\n",
    "r\"\"\"\n",
    "@DATE: 2024-03-26 16:19:29\n",
    "@File: Dtest\\d_human.ipynb\n",
    "@IDE: vscode\n",
    "@Description:\n",
    "    人类辩手测试\n",
    "\"\"\""
   ]
  },
  {
   "cell_type": "code",
   "execution_count": 4,
   "metadata": {},
   "outputs": [],
   "source": [
    "import sys\n",
    "import os\n",
    "current_dir = %pwd\n",
    "relative_path = os.path.join(current_dir, '..')\n",
    "sys.path.append(relative_path)\n",
    "from Dnode import InitNode,NormNode\n",
    "from Dobserver import AbObserver\n",
    "from Debater import D_Human\n",
    "from Djudge import AbJudge\n",
    "from Dgraph import upload"
   ]
  },
  {
   "cell_type": "code",
   "execution_count": 5,
   "metadata": {},
   "outputs": [],
   "source": [
    "human_debater = D_Human(model=\"kashiwa\")\n"
   ]
  },
  {
   "cell_type": "code",
   "execution_count": 7,
   "metadata": {},
   "outputs": [],
   "source": [
    "message_template =[\n",
    "                    {\"role\": \"system\", \"content\": f\"你是一个观点鲜明的辩手，你需要根据接收到的命令选择明确地支持以下内容,值得注意的是，支持一个反对论述那么你的立场也是反对原论述，反对一个反对论述那么你的立场就应该变为支持原论述\"},\n",
    "                    {\"role\": \"user\", \"content\":\"今天星期几？\"},\n",
    "                              ]"
   ]
  },
  {
   "cell_type": "code",
   "execution_count": 8,
   "metadata": {},
   "outputs": [
    {
     "data": {
      "text/plain": [
       "'今天星期二'"
      ]
     },
     "execution_count": 8,
     "metadata": {},
     "output_type": "execute_result"
    }
   ],
   "source": [
    "human_debater.invoke(message_template)"
   ]
  }
 ],
 "metadata": {
  "kernelspec": {
   "display_name": "DoT",
   "language": "python",
   "name": "python3"
  },
  "language_info": {
   "codemirror_mode": {
    "name": "ipython",
    "version": 3
   },
   "file_extension": ".py",
   "mimetype": "text/x-python",
   "name": "python",
   "nbconvert_exporter": "python",
   "pygments_lexer": "ipython3",
   "version": "3.10.13"
  }
 },
 "nbformat": 4,
 "nbformat_minor": 2
}
