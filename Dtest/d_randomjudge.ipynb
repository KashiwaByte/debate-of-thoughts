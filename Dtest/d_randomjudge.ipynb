{
 "cells": [
  {
   "cell_type": "code",
   "execution_count": null,
   "metadata": {},
   "outputs": [],
   "source": [
    "#!/usr/bin/env python\n",
    "# -*- coding: utf-8 -*-\n",
    "r\"\"\"\n",
    "@DATE: 2024-03-21 16:02:42\n",
    "@File: Dtest\\d_randomjudge.ipynb\n",
    "@IDE: vscode\n",
    "@Description:\n",
    "    节点选取与意向全随机的测试，zhipuai测试\n",
    "\"\"\""
   ]
  }
 ],
 "metadata": {
  "language_info": {
   "name": "python"
  }
 },
 "nbformat": 4,
 "nbformat_minor": 2
}
