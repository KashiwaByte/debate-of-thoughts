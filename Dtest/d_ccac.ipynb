{
 "cells": [
  {
   "cell_type": "code",
   "execution_count": 1,
   "metadata": {},
   "outputs": [
    {
     "data": {
      "text/plain": [
       "'\\n@DATE: 2024-05-08 10:09:29\\n@File: Dtest\\\\d_ccac.ipynb\\n@IDE: vscode\\n@Description:\\n    测试CCAC论辩评测效果\\n'"
      ]
     },
     "execution_count": 1,
     "metadata": {},
     "output_type": "execute_result"
    }
   ],
   "source": [
    "#!/usr/bin/env python\n",
    "# -*- coding: utf-8 -*-\n",
    "r\"\"\"\n",
    "@DATE: 2024-05-08 10:09:29\n",
    "@File: Dtest\\d_ccac.ipynb\n",
    "@IDE: vscode\n",
    "@Description:\n",
    "    测试CCAC论辩评测效果\n",
    "\"\"\""
   ]
  },
  {
   "cell_type": "code",
   "execution_count": null,
   "metadata": {},
   "outputs": [],
   "source": [
    "import sys\n",
    "import os\n",
    "# 获取当前脚本所在的目录\n",
    "current_dir = %pwd\n",
    "# 构建相对路径\n",
    "relative_path = os.path.join(current_dir, '..')\n",
    "# 将相对路径添加到sys.path\n",
    "sys.path.append(relative_path)\n",
    "from Dnode import CCACNode\n",
    "from Dobserver import CCACObserver\n",
    "from Debater import CCACDebater,CCACBaseDebater\n",
    "from Djudge import CCACJudge"
   ]
  }
 ],
 "metadata": {
  "kernelspec": {
   "display_name": "DoT",
   "language": "python",
   "name": "python3"
  },
  "language_info": {
   "codemirror_mode": {
    "name": "ipython",
    "version": 3
   },
   "file_extension": ".py",
   "mimetype": "text/x-python",
   "name": "python",
   "nbconvert_exporter": "python",
   "pygments_lexer": "ipython3",
   "version": "3.10.13"
  }
 },
 "nbformat": 4,
 "nbformat_minor": 2
}
