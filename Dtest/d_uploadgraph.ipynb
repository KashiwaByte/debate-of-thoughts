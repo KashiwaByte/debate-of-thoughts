{
 "cells": [
  {
   "cell_type": "code",
   "execution_count": null,
   "metadata": {},
   "outputs": [],
   "source": [
    "#!/usr/bin/env python\n",
    "# -*- coding: utf-8 -*-\n",
    "r\"\"\"\n",
    "@DATE: 2024-03-19 18:29:20\n",
    "@File: Dtest\\d_uploadgraph.ipynb\n",
    "@IDE: vscode\n",
    "@Description:\n",
    "    根据d_observertest数据进行图数据库上传测试\n",
    "\"\"\""
   ]
  },
  {
   "cell_type": "code",
   "execution_count": 3,
   "metadata": {},
   "outputs": [],
   "source": [
    "from py2neo import Graph, Node, Relationship\n",
    "\n",
    "\n",
    "graph = Graph(\"bolt://localhost:7687\", auth=(\"neo4j\", \"NEO123456neo\"))"
   ]
  },
  {
   "cell_type": "code",
   "execution_count": 2,
   "metadata": {},
   "outputs": [],
   "source": [
    "observer_relation =[\n",
    "    {'round_id': 1,\n",
    "  'topic': '篮球界的GoAT是谁',\n",
    "  'depth': 0,\n",
    "  'debater':\"debaterA\",\n",
    "  'content': '篮球界的GOAT通常指的是迈克尔·乔丹（Michael Jordan）。他被认为是最伟大的篮球运动员之一，拥有6次NBA总冠军、5次常规赛MVP、14次全明星等众多荣誉。然而，有些人认为勒布朗·詹姆斯（LeBron James）也有可能成为GOAT之一，因为他同样取得了辉煌的成就和统治力。不过，目前大多数人仍将乔丹视为篮球界的GOAT。'},              \n",
    " {'round_id': 2,\n",
    "  'depth': 1,\n",
    "  'debater': \"debaterA\",\n",
    "  'standpoint': -1,\n",
    "  'stand': '反对',\n",
    "  'target': \"Node1\",\n",
    "  'content': '作为一名观点鲜明的辩手，我选择反对将迈克尔·乔丹视为篮球界的GOAT。尽管乔丹拥有令人瞩目的成就和荣誉，但这并不意味着他就是绝对的最伟大篮球运动员。勒布朗·詹姆斯同样拥有众多惊人的成就和统治力，他的篮球技术、领导力和影响力也不容小觑。虽然目前大多数人将乔丹视为GOAT，但这并不代表其他球员无法挑战这一地位。在篮球界的发展历程中，总会有新的优秀球员出现，而将乔丹作为绝对的GOAT可能会限制对其他球员的评价和认可。因此，我们应该对不同球员的成就和表现持开放和客观的态度，而不是过度偏袒特定人物。'},\n",
    " {'round_id': 3,\n",
    "  'depth': 2,\n",
    "  'debater': \"debaterB\",\n",
    "  'standpoint': 1,\n",
    "  'stand': '支持',\n",
    "  'target':  \"Node2\",\n",
    "  'content': '我也认为勒布朗是真正的GoAT，因为乔丹只是远古冠军。'}\n",
    "                ]"
   ]
  },
  {
   "cell_type": "code",
   "execution_count": 7,
   "metadata": {},
   "outputs": [],
   "source": [
    "def node_upload(observer_relation):\n",
    "\n",
    "    node1=Node(\"round\",**observer_relation[0])\n",
    "    node2=Node(\"round\",**observer_relation[1])\n",
    "    node3=Node(\"round\",**observer_relation[2])\n",
    " \n",
    "\n",
    "    relationship_1 = Relationship(node2, observer_relation[1][\"stand\"], node1)\n",
    "    relationship_2 = Relationship(node3, observer_relation[2][\"stand\"], node2)\n",
    "\n",
    "    graph.create(relationship_1)\n",
    "    graph.create(relationship_2)"
   ]
  },
  {
   "cell_type": "code",
   "execution_count": 8,
   "metadata": {},
   "outputs": [],
   "source": [
    "node_upload(observer_relation)\n"
   ]
  },
  {
   "cell_type": "markdown",
   "metadata": {},
   "source": [
    "# 以下是利用图数据库的一些尝试，具体应用后续探索"
   ]
  },
  {
   "cell_type": "markdown",
   "metadata": {},
   "source": [
    "![](https://kashiwa-pic.oss-cn-beijing.aliyuncs.com/20240319183809.png)"
   ]
  },
  {
   "cell_type": "markdown",
   "metadata": {},
   "source": [
    "![image.png](https://kashiwa-pic.oss-cn-beijing.aliyuncs.com/20240319184127.png)"
   ]
  }
 ],
 "metadata": {
  "kernelspec": {
   "display_name": "DoT",
   "language": "python",
   "name": "python3"
  },
  "language_info": {
   "codemirror_mode": {
    "name": "ipython",
    "version": 3
   },
   "file_extension": ".py",
   "mimetype": "text/x-python",
   "name": "python",
   "nbconvert_exporter": "python",
   "pygments_lexer": "ipython3",
   "version": "3.10.0"
  }
 },
 "nbformat": 4,
 "nbformat_minor": 2
}
