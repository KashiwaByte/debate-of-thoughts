{
 "cells": [
  {
   "cell_type": "code",
   "execution_count": 37,
   "metadata": {},
   "outputs": [
    {
     "data": {
      "text/plain": [
       "'\\n@DATE: 2024-03-23 09:17:24\\n@File: Dtest\\\\d_10GPTnode.ipynb\\n@IDE: vscode\\n@Description:\\n    测试十轮次GPT的效果\\n'"
      ]
     },
     "execution_count": 37,
     "metadata": {},
     "output_type": "execute_result"
    }
   ],
   "source": [
    "#!/usr/bin/env python\n",
    "# -*- coding: utf-8 -*-\n",
    "r\"\"\"\n",
    "@DATE: 2024-03-23 09:17:24\n",
    "@File: Dtest\\d_10GPTnode.ipynb\n",
    "@IDE: vscode\n",
    "@Description:\n",
    "    测试十轮次GPT的效果\n",
    "\"\"\""
   ]
  },
  {
   "cell_type": "code",
   "execution_count": 1,
   "metadata": {},
   "outputs": [
    {
     "ename": "ModuleNotFoundError",
     "evalue": "No module named 'abjudge'",
     "output_type": "error",
     "traceback": [
      "\u001b[1;31m---------------------------------------------------------------------------\u001b[0m",
      "\u001b[1;31mModuleNotFoundError\u001b[0m                       Traceback (most recent call last)",
      "Cell \u001b[1;32mIn[1], line 12\u001b[0m\n\u001b[0;32m     10\u001b[0m \u001b[38;5;28;01mfrom\u001b[39;00m \u001b[38;5;21;01mDobserver\u001b[39;00m \u001b[38;5;28;01mimport\u001b[39;00m AbObserver\n\u001b[0;32m     11\u001b[0m \u001b[38;5;28;01mfrom\u001b[39;00m \u001b[38;5;21;01mDebater\u001b[39;00m \u001b[38;5;28;01mimport\u001b[39;00m D_Zhipuai,D_Openai\n\u001b[1;32m---> 12\u001b[0m \u001b[38;5;28;01mfrom\u001b[39;00m \u001b[38;5;21;01mDjudge\u001b[39;00m \u001b[38;5;28;01mimport\u001b[39;00m AbJudge\n\u001b[0;32m     13\u001b[0m \u001b[38;5;28;01mfrom\u001b[39;00m \u001b[38;5;21;01mDgraph\u001b[39;00m \u001b[38;5;28;01mimport\u001b[39;00m upload\n",
      "File \u001b[1;32md:\\debate-of-thoughts\\Dtest\\..\\Djudge\\__init__.py:12\u001b[0m\n\u001b[0;32m      3\u001b[0m \u001b[38;5;124mr\u001b[39m\u001b[38;5;124;03m\"\"\"\u001b[39;00m\n\u001b[0;32m      4\u001b[0m \u001b[38;5;124;03m@DATE: 2024-03-20 11:38:08\u001b[39;00m\n\u001b[0;32m      5\u001b[0m \u001b[38;5;124;03m@File: Djudge\\__init__.py\u001b[39;00m\n\u001b[1;32m   (...)\u001b[0m\n\u001b[0;32m      8\u001b[0m \u001b[38;5;124;03m    judge模块\u001b[39;00m\n\u001b[0;32m      9\u001b[0m \u001b[38;5;124;03m\"\"\"\u001b[39;00m\n\u001b[0;32m     11\u001b[0m \u001b[38;5;28;01mfrom\u001b[39;00m \u001b[38;5;21;01m.\u001b[39;00m\u001b[38;5;21;01mabjudge\u001b[39;00m \u001b[38;5;28;01mimport\u001b[39;00m AbJudge\n\u001b[1;32m---> 12\u001b[0m \u001b[38;5;28;01mfrom\u001b[39;00m \u001b[38;5;21;01m.\u001b[39;00m\u001b[38;5;21;01mccacjudge\u001b[39;00m \u001b[38;5;28;01mimport\u001b[39;00m CCACJudge\n\u001b[0;32m     13\u001b[0m \u001b[38;5;28;01mimport\u001b[39;00m \u001b[38;5;21;01mSparkApi\u001b[39;00m\n",
      "File \u001b[1;32md:\\debate-of-thoughts\\Dtest\\..\\Djudge\\ccacjudge.py:15\u001b[0m\n\u001b[0;32m     13\u001b[0m relative_path \u001b[38;5;241m=\u001b[39m os\u001b[38;5;241m.\u001b[39mpath\u001b[38;5;241m.\u001b[39mjoin(current_dir, \u001b[38;5;124m'\u001b[39m\u001b[38;5;124m..\u001b[39m\u001b[38;5;124m'\u001b[39m)\n\u001b[0;32m     14\u001b[0m sys\u001b[38;5;241m.\u001b[39mpath\u001b[38;5;241m.\u001b[39mappend(relative_path)\n\u001b[1;32m---> 15\u001b[0m \u001b[38;5;28;01mfrom\u001b[39;00m \u001b[38;5;21;01mabjudge\u001b[39;00m \u001b[38;5;28;01mimport\u001b[39;00m AbJudge\n\u001b[0;32m     16\u001b[0m \u001b[38;5;28;01mfrom\u001b[39;00m \u001b[38;5;21;01mDnode\u001b[39;00m \u001b[38;5;28;01mimport\u001b[39;00m AbNode,CCACNode\n\u001b[0;32m     17\u001b[0m \u001b[38;5;28;01mfrom\u001b[39;00m \u001b[38;5;21;01mDobserver\u001b[39;00m \u001b[38;5;28;01mimport\u001b[39;00m AbObserver\n",
      "\u001b[1;31mModuleNotFoundError\u001b[0m: No module named 'abjudge'"
     ]
    }
   ],
   "source": [
    "import sys\n",
    "import os\n",
    "# 获取当前脚本所在的目录\n",
    "current_dir = %pwd\n",
    "# 构建相对路径\n",
    "relative_path = os.path.join(current_dir, '..')\n",
    "# 将相对路径添加到sys.path\n",
    "sys.path.append(relative_path)\n",
    "from Dnode import InitNode,NormNode\n",
    "from Dobserver import AbObserver\n",
    "from Debater import D_Zhipuai,D_Openai\n",
    "from Djudge import AbJudge\n",
    "from Dgraph import upload"
   ]
  },
  {
   "cell_type": "code",
   "execution_count": 39,
   "metadata": {},
   "outputs": [],
   "source": [
    "var_name = 'node'\n",
    "topic=\"人性本善\"\n",
    "\n",
    "# debaterA = D_Zhipuai(api_key=\"Put Your API Here\")\n",
    "# debaterB = D_Zhipuai(api_key=\"Put Your API Here\")\n",
    "debaterA = D_Openai(api_key=\"Put your API Here\")\n",
    "debaterB = D_Openai(api_key=\"Put your API Here\")\n",
    "\n",
    "observer = AbObserver(name=\"10roundGPTkind\",max_round=10)\n",
    "\n",
    "observer.add_debater(describe=\"1号辩手\",debater=debaterA)\n",
    "observer.add_debater(describe=\"2号辩手\",debater=debaterB)\n",
    "\n",
    "node1 =  InitNode(topic=topic,debater=debaterA)"
   ]
  },
  {
   "cell_type": "code",
   "execution_count": 40,
   "metadata": {},
   "outputs": [
    {
     "name": "stderr",
     "output_type": "stream",
     "text": [
      "\u001b[32m2024-03-23 09:59:21.694\u001b[0m | \u001b[1mINFO    \u001b[0m | \u001b[36mDobserver.abobserver\u001b[0m:\u001b[36mlog\u001b[0m:\u001b[36m62\u001b[0m - \u001b[1m\n",
      "当前轮次为：1\n",
      "本轮节点使用的Debater为：<Debater.d_openai.D_Openai object at 0x000002174BC3F8E0>\n",
      "本轮节点的人性本善论述是：我认为人性并不是本善的，人的行为会受到环境、教育、经历等多种因素的影响，导致人们有时做出恶意的行为。虽然人类有着善良的潜质，但并不能说人性本善。\n",
      "当前的关系矩阵为：\n",
      "[0]\u001b[0m\n"
     ]
    }
   ],
   "source": [
    "observer.init_node(node1)\n",
    "observer.update()"
   ]
  },
  {
   "cell_type": "code",
   "execution_count": 41,
   "metadata": {},
   "outputs": [
    {
     "name": "stderr",
     "output_type": "stream",
     "text": [
      "\u001b[32m2024-03-23 09:59:24.504\u001b[0m | \u001b[1mINFO    \u001b[0m | \u001b[36mDobserver.abobserver\u001b[0m:\u001b[36mlog\u001b[0m:\u001b[36m71\u001b[0m - \u001b[1m\n",
      "当前轮次为：2\n",
      "本轮节点使用的Debater为：<Debater.d_openai.D_Openai object at 0x000002174BC3F8E0>\n",
      "本轮节点 支持 node_1\n",
      "本轮节点的上文是：[{'role': 'system', 'content': '你是一个观点鲜明的辩手，你需要根据接收到的命令选择明确地支持以下内容,值得注意的是，支持一个反对论述那么你的立场也是反对原论述，反对一个反对论述那么你的立场就应该变为支持原论述'}, {'role': 'user', 'content': '我认为人性并不是本善的，人的行为会受到环境、教育、经历等多种因素的影响，导致人们有时做出恶意的行为。虽然人类有着善良的潜质，但并不能说人性本善。'}]\n",
      "本轮节点的支持论述是：我支持你的看法。人的行为受多种因素影响，人性并不是本善的。虽然人类有善良的潜质，但环境、教育等因素也会引导人们做出恶意的行为。因此，不能简单地说人性本善。\n",
      "当前的关系矩阵为：\n",
      "[[0 0]\n",
      " [1 0]]\u001b[0m\n",
      "\u001b[32m2024-03-23 09:59:26.712\u001b[0m | \u001b[1mINFO    \u001b[0m | \u001b[36mDobserver.abobserver\u001b[0m:\u001b[36mlog\u001b[0m:\u001b[36m71\u001b[0m - \u001b[1m\n",
      "当前轮次为：3\n",
      "本轮节点使用的Debater为：<Debater.d_openai.D_Openai object at 0x000002174BC3F8E0>\n",
      "本轮节点 反对 node_1\n",
      "本轮节点的上文是：[{'role': 'system', 'content': '你是一个观点鲜明的辩手，你需要根据接收到的命令选择明确地反对以下内容,值得注意的是，支持一个反对论述那么你的立场也是反对原论述，反对一个反对论述那么你的立场就应该变为支持原论述'}, {'role': 'user', 'content': '我认为人性并不是本善的，人的行为会受到环境、教育、经历等多种因素的影响，导致人们有时做出恶意的行为。虽然人类有着善良的潜质，但并不能说人性本善。'}]\n",
      "本轮节点的反对论述是：我不同意这种观点。我认为人性本善，即使在受到各种环境和教育影响的情况下，人们内在的善良本性仍然存在。人类在本质上是善良的，只是在某些特定情况下可能会做出恶意行为。因此，我相信人性是本善的。\n",
      "当前的关系矩阵为：\n",
      "[[ 0  0  0]\n",
      " [ 1  0  0]\n",
      " [-1  0  0]]\u001b[0m\n",
      "\u001b[32m2024-03-23 09:59:29.994\u001b[0m | \u001b[1mINFO    \u001b[0m | \u001b[36mDobserver.abobserver\u001b[0m:\u001b[36mlog\u001b[0m:\u001b[36m71\u001b[0m - \u001b[1m\n",
      "当前轮次为：4\n",
      "本轮节点使用的Debater为：<Debater.d_openai.D_Openai object at 0x000002174BC3F8E0>\n",
      "本轮节点 支持 node_1\n",
      "本轮节点的上文是：[{'role': 'system', 'content': '你是一个观点鲜明的辩手，你需要根据接收到的命令选择明确地支持以下内容,值得注意的是，支持一个反对论述那么你的立场也是反对原论述，反对一个反对论述那么你的立场就应该变为支持原论述'}, {'role': 'user', 'content': '我认为人性并不是本善的，人的行为会受到环境、教育、经历等多种因素的影响，导致人们有时做出恶意的行为。虽然人类有着善良的潜质，但并不能说人性本善。'}]\n",
      "本轮节点的支持论述是：我支持你的观点。人性并不是本善的，而是受到环境、教育、经历等多种因素的影响。这些因素会导致人们做出恶意的行为。虽然人类可能具有善良的潜质，但并不能一概而论地说人性本善。\n",
      "当前的关系矩阵为：\n",
      "[[ 0  0  0  0]\n",
      " [ 1  0  0  0]\n",
      " [-1  0  0  0]\n",
      " [ 1  0  0  0]]\u001b[0m\n",
      "\u001b[32m2024-03-23 09:59:35.043\u001b[0m | \u001b[1mINFO    \u001b[0m | \u001b[36mDobserver.abobserver\u001b[0m:\u001b[36mlog\u001b[0m:\u001b[36m71\u001b[0m - \u001b[1m\n",
      "当前轮次为：5\n",
      "本轮节点使用的Debater为：<Debater.d_openai.D_Openai object at 0x000002174BC3F8E0>\n",
      "本轮节点 反对 node_2\n",
      "本轮节点的上文是：[{'role': 'system', 'content': '你是一个观点鲜明的辩手，你需要根据接收到的命令选择明确地反对以下内容,值得注意的是，支持一个反对论述那么你的立场也是反对原论述，反对一个反对论述那么你的立场就应该变为支持原论述'}, {'role': 'user', 'content': '我支持你的看法。人的行为受多种因素影响，人性并不是本善的。虽然人类有善良的潜质，但环境、教育等因素也会引导人们做出恶意的行为。因此，不能简单地说人性本善。'}]\n",
      "本轮节点的反对论述是：我不同意这种观点。虽然人的行为受到多种因素影响，但我坚信人性本善。每个人内心深处都有善良、正直的本性，即使受到外部环境影响，这种本善仍然存在并可以被挖掘出来。人类社会也是建立在信任、合作和善意基础上的，因此人性本善是我们共同的信仰和希望。\n",
      "当前的关系矩阵为：\n",
      "[[ 0  0  0  0  0]\n",
      " [ 1  0  0  0  0]\n",
      " [-1  0  0  0  0]\n",
      " [ 1  0  0  0  0]\n",
      " [ 0 -1  0  0  0]]\u001b[0m\n",
      "\u001b[32m2024-03-23 09:59:38.830\u001b[0m | \u001b[1mINFO    \u001b[0m | \u001b[36mDobserver.abobserver\u001b[0m:\u001b[36mlog\u001b[0m:\u001b[36m71\u001b[0m - \u001b[1m\n",
      "当前轮次为：6\n",
      "本轮节点使用的Debater为：<Debater.d_openai.D_Openai object at 0x000002174BC3F8E0>\n",
      "本轮节点 反对 node_3\n",
      "本轮节点的上文是：[{'role': 'system', 'content': '你是一个观点鲜明的辩手，你需要根据接收到的命令选择明确地反对以下内容,值得注意的是，支持一个反对论述那么你的立场也是反对原论述，反对一个反对论述那么你的立场就应该变为支持原论述'}, {'role': 'user', 'content': '我不同意这种观点。我认为人性本善，即使在受到各种环境和教育影响的情况下，人们内在的善良本性仍然存在。人类在本质上是善良的，只是在某些特定情况下可能会做出恶意行为。因此，我相信人性是本善的。'}]\n",
      "本轮节点的反对论述是：我选择明确地反对你的观点。尽管人类有时会展现善良和仁慈的一面，但从历史和现实生活中我们可以看到，人类同样展现出自私、暴力和贪婪的一面。个人的欲望、社会的竞争和其他因素都可能导致人们做出恶意行为。因此，人性并非完全本善，而是复杂多变的。\n",
      "当前的关系矩阵为：\n",
      "[[ 0  0  0  0  0  0]\n",
      " [ 1  0  0  0  0  0]\n",
      " [-1  0  0  0  0  0]\n",
      " [ 1  0  0  0  0  0]\n",
      " [ 0 -1  0  0  0  0]\n",
      " [ 0  0 -1  0  0  0]]\u001b[0m\n",
      "\u001b[32m2024-03-23 09:59:44.039\u001b[0m | \u001b[1mINFO    \u001b[0m | \u001b[36mDobserver.abobserver\u001b[0m:\u001b[36mlog\u001b[0m:\u001b[36m71\u001b[0m - \u001b[1m\n",
      "当前轮次为：7\n",
      "本轮节点使用的Debater为：<Debater.d_openai.D_Openai object at 0x000002174BC3F8E0>\n",
      "本轮节点 反对 node_6\n",
      "本轮节点的上文是：[{'role': 'system', 'content': '你是一个观点鲜明的辩手，你需要根据接收到的命令选择明确地反对以下内容,值得注意的是，支持一个反对论述那么你的立场也是反对原论述，反对一个反对论述那么你的立场就应该变为支持原论述'}, {'role': 'user', 'content': '我选择明确地反对你的观点。尽管人类有时会展现善良和仁慈的一面，但从历史和现实生活中我们可以看到，人类同样展现出自私、暴力和贪婪的一面。个人的欲望、社会的竞争和其他因素都可能导致人们做出恶意行为。因此，人性并非完全本善，而是复杂多变的。'}]\n",
      "本轮节点的反对论述是：我支持原论述，反对人性完全本善的观点。尽管人类有时会展现出自私、暴力和贪婪的一面，但同样有很多人展现出善良和仁慈的品质。人性是复杂多变的，既有阴暗面也有光明面。每个人都有选择行为的自由，无论环境如何，每个人都有能力选择积极的行为。人类的多样性和复杂性使得不能简单地将人性定义为完全恶劣的。\n",
      "当前的关系矩阵为：\n",
      "[[ 0  0  0  0  0  0  0]\n",
      " [ 1  0  0  0  0  0  0]\n",
      " [-1  0  0  0  0  0  0]\n",
      " [ 1  0  0  0  0  0  0]\n",
      " [ 0 -1  0  0  0  0  0]\n",
      " [ 0  0 -1  0  0  0  0]\n",
      " [ 0  0  0  0  0 -1  0]]\u001b[0m\n",
      "\u001b[32m2024-03-23 09:59:47.756\u001b[0m | \u001b[1mINFO    \u001b[0m | \u001b[36mDobserver.abobserver\u001b[0m:\u001b[36mlog\u001b[0m:\u001b[36m71\u001b[0m - \u001b[1m\n",
      "当前轮次为：8\n",
      "本轮节点使用的Debater为：<Debater.d_openai.D_Openai object at 0x000002174BC3F8E0>\n",
      "本轮节点 支持 node_2\n",
      "本轮节点的上文是：[{'role': 'system', 'content': '你是一个观点鲜明的辩手，你需要根据接收到的命令选择明确地支持以下内容,值得注意的是，支持一个反对论述那么你的立场也是反对原论述，反对一个反对论述那么你的立场就应该变为支持原论述'}, {'role': 'user', 'content': '我支持你的看法。人的行为受多种因素影响，人性并不是本善的。虽然人类有善良的潜质，但环境、教育等因素也会引导人们做出恶意的行为。因此，不能简单地说人性本善。'}]\n",
      "本轮节点的支持论述是：谢谢你的支持！我完全同意你的观点。人的行为受多种因素影响，人性并非本善。尽管人类可能拥有善良的潜质，但环境、教育、社会文化等因素也会对人们产生负面影响，导致他们做出恶意的行为。因此，我们不能简单地将人性定义为本善。感谢你对这个观点的支持！\n",
      "当前的关系矩阵为：\n",
      "[[ 0  0  0  0  0  0  0  0]\n",
      " [ 1  0  0  0  0  0  0  0]\n",
      " [-1  0  0  0  0  0  0  0]\n",
      " [ 1  0  0  0  0  0  0  0]\n",
      " [ 0 -1  0  0  0  0  0  0]\n",
      " [ 0  0 -1  0  0  0  0  0]\n",
      " [ 0  0  0  0  0 -1  0  0]\n",
      " [ 0  1  0  0  0  0  0  0]]\u001b[0m\n",
      "\u001b[32m2024-03-23 09:59:51.859\u001b[0m | \u001b[1mINFO    \u001b[0m | \u001b[36mDobserver.abobserver\u001b[0m:\u001b[36mlog\u001b[0m:\u001b[36m71\u001b[0m - \u001b[1m\n",
      "当前轮次为：9\n",
      "本轮节点使用的Debater为：<Debater.d_openai.D_Openai object at 0x000002174BC3F8E0>\n",
      "本轮节点 反对 node_7\n",
      "本轮节点的上文是：[{'role': 'system', 'content': '你是一个观点鲜明的辩手，你需要根据接收到的命令选择明确地反对以下内容,值得注意的是，支持一个反对论述那么你的立场也是反对原论述，反对一个反对论述那么你的立场就应该变为支持原论述'}, {'role': 'user', 'content': '我支持原论述，反对人性完全本善的观点。尽管人类有时会展现出自私、暴力和贪婪的一面，但同样有很多人展现出善良和仁慈的品质。人性是复杂多变的，既有阴暗面也有光明面。每个人都有选择行为的自由，无论环境如何，每个人都有能力选择积极的行为。人类的多样性和复杂性使得不能简单地将人性定义为完全恶劣的。'}]\n",
      "本轮节点的反对论述是：我选择反对这个论述。人性并非完全邪恶，但也不是本善的。作为社会动物，人类在一定程度上具备合作和善良的天性，但人性也包含自私、贪婪和其他负面特质。很多时候，人们会出于自身利益或其他动机采取具有破坏性的行为，这表明人性并非完全本善。因此，认为人性完全本善的观点是片面的，丧失了对人类复杂性和多面性的理解。\n",
      "当前的关系矩阵为：\n",
      "[[ 0  0  0  0  0  0  0  0  0]\n",
      " [ 1  0  0  0  0  0  0  0  0]\n",
      " [-1  0  0  0  0  0  0  0  0]\n",
      " [ 1  0  0  0  0  0  0  0  0]\n",
      " [ 0 -1  0  0  0  0  0  0  0]\n",
      " [ 0  0 -1  0  0  0  0  0  0]\n",
      " [ 0  0  0  0  0 -1  0  0  0]\n",
      " [ 0  1  0  0  0  0  0  0  0]\n",
      " [ 0  0  0  0  0  0 -1  0  0]]\u001b[0m\n",
      "\u001b[32m2024-03-23 09:59:52.769\u001b[0m | \u001b[1mINFO    \u001b[0m | \u001b[36mDobserver.abobserver\u001b[0m:\u001b[36mlog\u001b[0m:\u001b[36m71\u001b[0m - \u001b[1m\n",
      "当前轮次为：10\n",
      "本轮节点使用的Debater为：<Debater.d_openai.D_Openai object at 0x000002174BC3F8E0>\n",
      "本轮节点 支持 node_3\n",
      "本轮节点的上文是：[{'role': 'system', 'content': '你是一个观点鲜明的辩手，你需要根据接收到的命令选择明确地支持以下内容,值得注意的是，支持一个反对论述那么你的立场也是反对原论述，反对一个反对论述那么你的立场就应该变为支持原论述'}, {'role': 'user', 'content': '我不同意这种观点。我认为人性本善，即使在受到各种环境和教育影响的情况下，人们内在的善良本性仍然存在。人类在本质上是善良的，只是在某些特定情况下可能会做出恶意行为。因此，我相信人性是本善的。'}]\n",
      "本轮节点的支持论述是：支持原论述\n",
      "当前的关系矩阵为：\n",
      "[[ 0  0  0  0  0  0  0  0  0  0]\n",
      " [ 1  0  0  0  0  0  0  0  0  0]\n",
      " [-1  0  0  0  0  0  0  0  0  0]\n",
      " [ 1  0  0  0  0  0  0  0  0  0]\n",
      " [ 0 -1  0  0  0  0  0  0  0  0]\n",
      " [ 0  0 -1  0  0  0  0  0  0  0]\n",
      " [ 0  0  0  0  0 -1  0  0  0  0]\n",
      " [ 0  1  0  0  0  0  0  0  0  0]\n",
      " [ 0  0  0  0  0  0 -1  0  0  0]\n",
      " [ 0  0  1  0  0  0  0  0  0  0]]\u001b[0m\n"
     ]
    }
   ],
   "source": [
    "judge = AbJudge(observer=observer)\n",
    "\n",
    "for i in range(2,observer.max_round+1):\n",
    "    node_name = f'{var_name}{i}'\n",
    "    globals()[node_name] = judge.new_node()\n",
    "    \n",
    "\n",
    "    observer.update_node(globals()[node_name])\n",
    "    observer.update()"
   ]
  },
  {
   "cell_type": "code",
   "execution_count": 42,
   "metadata": {},
   "outputs": [
    {
     "name": "stdout",
     "output_type": "stream",
     "text": [
      "初始[{'round_id': 1, 'node': <Dnode.initialnode.InitNode object at 0x000002174BF1B580>, 'topic': '人性本善', 'depth': 0, 'debater': <Debater.d_openai.D_Openai object at 0x000002174BC3F8E0>, 'content': '我认为人性并不是本善的，人的行为会受到环境、教育、经历等多种因素的影响，导致人们有时做出恶意的行为。虽然人类有着善良的潜质，但并不能说人性本善。'}, {'round_id': 2, 'node': <Dnode.normnode.NormNode object at 0x0000021748D3C7F0>, 'topic': '人性本善', 'depth': 1, 'debater': <Debater.d_openai.D_Openai object at 0x000002174BC3F8E0>, 'standpoint': 1, 'stand': '支持', 'target': <Dnode.initialnode.InitNode object at 0x000002174BF1B580>, 'content': '我支持你的看法。人的行为受多种因素影响，人性并不是本善的。虽然人类有善良的潜质，但环境、教育等因素也会引导人们做出恶意的行为。因此，不能简单地说人性本善。'}, {'round_id': 3, 'node': <Dnode.normnode.NormNode object at 0x000002174BB6B940>, 'topic': '人性本善', 'depth': 1, 'debater': <Debater.d_openai.D_Openai object at 0x000002174BC3F8E0>, 'standpoint': -1, 'stand': '反对', 'target': <Dnode.initialnode.InitNode object at 0x000002174BF1B580>, 'content': '我不同意这种观点。我认为人性本善，即使在受到各种环境和教育影响的情况下，人们内在的善良本性仍然存在。人类在本质上是善良的，只是在某些特定情况下可能会做出恶意行为。因此，我相信人性是本善的。'}, {'round_id': 4, 'node': <Dnode.normnode.NormNode object at 0x000002174BC3CAC0>, 'topic': '人性本善', 'depth': 1, 'debater': <Debater.d_openai.D_Openai object at 0x000002174BC3F8E0>, 'standpoint': 1, 'stand': '支持', 'target': <Dnode.initialnode.InitNode object at 0x000002174BF1B580>, 'content': '我支持你的观点。人性并不是本善的，而是受到环境、教育、经历等多种因素的影响。这些因素会导致人们做出恶意的行为。虽然人类可能具有善良的潜质，但并不能一概而论地说人性本善。'}, {'round_id': 5, 'node': <Dnode.normnode.NormNode object at 0x000002174BB5D1B0>, 'topic': '人性本善', 'depth': 2, 'debater': <Debater.d_openai.D_Openai object at 0x000002174BC3F8E0>, 'standpoint': -1, 'stand': '反对', 'target': <Dnode.normnode.NormNode object at 0x0000021748D3C7F0>, 'content': '我不同意这种观点。虽然人的行为受到多种因素影响，但我坚信人性本善。每个人内心深处都有善良、正直的本性，即使受到外部环境影响，这种本善仍然存在并可以被挖掘出来。人类社会也是建立在信任、合作和善意基础上的，因此人性本善是我们共同的信仰和希望。'}, {'round_id': 6, 'node': <Dnode.normnode.NormNode object at 0x000002174BB5CB50>, 'topic': '人性本善', 'depth': 2, 'debater': <Debater.d_openai.D_Openai object at 0x000002174BC3F8E0>, 'standpoint': -1, 'stand': '反对', 'target': <Dnode.normnode.NormNode object at 0x000002174BB6B940>, 'content': '我选择明确地反对你的观点。尽管人类有时会展现善良和仁慈的一面，但从历史和现实生活中我们可以看到，人类同样展现出自私、暴力和贪婪的一面。个人的欲望、社会的竞争和其他因素都可能导致人们做出恶意行为。因此，人性并非完全本善，而是复杂多变的。'}, {'round_id': 7, 'node': <Dnode.normnode.NormNode object at 0x000002174BB55120>, 'topic': '人性本善', 'depth': 3, 'debater': <Debater.d_openai.D_Openai object at 0x000002174BC3F8E0>, 'standpoint': -1, 'stand': '反对', 'target': <Dnode.normnode.NormNode object at 0x000002174BB5CB50>, 'content': '我支持原论述，反对人性完全本善的观点。尽管人类有时会展现出自私、暴力和贪婪的一面，但同样有很多人展现出善良和仁慈的品质。人性是复杂多变的，既有阴暗面也有光明面。每个人都有选择行为的自由，无论环境如何，每个人都有能力选择积极的行为。人类的多样性和复杂性使得不能简单地将人性定义为完全恶劣的。'}, {'round_id': 8, 'node': <Dnode.normnode.NormNode object at 0x0000021748D877C0>, 'topic': '人性本善', 'depth': 2, 'debater': <Debater.d_openai.D_Openai object at 0x000002174BC3F8E0>, 'standpoint': 1, 'stand': '支持', 'target': <Dnode.normnode.NormNode object at 0x0000021748D3C7F0>, 'content': '谢谢你的支持！我完全同意你的观点。人的行为受多种因素影响，人性并非本善。尽管人类可能拥有善良的潜质，但环境、教育、社会文化等因素也会对人们产生负面影响，导致他们做出恶意的行为。因此，我们不能简单地将人性定义为本善。感谢你对这个观点的支持！'}, {'round_id': 9, 'node': <Dnode.normnode.NormNode object at 0x000002174BC3FDF0>, 'topic': '人性本善', 'depth': 4, 'debater': <Debater.d_openai.D_Openai object at 0x000002174BC3F8E0>, 'standpoint': -1, 'stand': '反对', 'target': <Dnode.normnode.NormNode object at 0x000002174BB55120>, 'content': '我选择反对这个论述。人性并非完全邪恶，但也不是本善的。作为社会动物，人类在一定程度上具备合作和善良的天性，但人性也包含自私、贪婪和其他负面特质。很多时候，人们会出于自身利益或其他动机采取具有破坏性的行为，这表明人性并非完全本善。因此，认为人性完全本善的观点是片面的，丧失了对人类复杂性和多面性的理解。'}, {'round_id': 10, 'node': <Dnode.normnode.NormNode object at 0x000002174B9BFB50>, 'topic': '人性本善', 'depth': 2, 'debater': <Debater.d_openai.D_Openai object at 0x000002174BC3F8E0>, 'standpoint': 1, 'stand': '支持', 'target': <Dnode.normnode.NormNode object at 0x000002174BB6B940>, 'content': '支持原论述'}]\n",
      "修改后:[{'round_id': 1, 'node': 'graphnode1', 'topic': '人性本善', 'depth': 0, 'debater': \"<class 'Debater.d_openai.D_Openai'>\", 'content': '我认为人性并不是本善的，人的行为会受到环境、教育、经历等多种因素的影响，导致人们有时做出恶意的行为。虽然人类有着善良的潜质，但并不能说人性本善。'}, {'round_id': 2, 'node': 'graphnode2', 'topic': '人性本善', 'depth': 1, 'debater': \"<class 'Debater.d_openai.D_Openai'>\", 'standpoint': 1, 'stand': '支持', 'target': 'graphnode1', 'content': '我支持你的看法。人的行为受多种因素影响，人性并不是本善的。虽然人类有善良的潜质，但环境、教育等因素也会引导人们做出恶意的行为。因此，不能简单地说人性本善。'}, {'round_id': 3, 'node': 'graphnode3', 'topic': '人性本善', 'depth': 1, 'debater': \"<class 'Debater.d_openai.D_Openai'>\", 'standpoint': -1, 'stand': '反对', 'target': 'graphnode1', 'content': '我不同意这种观点。我认为人性本善，即使在受到各种环境和教育影响的情况下，人们内在的善良本性仍然存在。人类在本质上是善良的，只是在某些特定情况下可能会做出恶意行为。因此，我相信人性是本善的。'}, {'round_id': 4, 'node': 'graphnode4', 'topic': '人性本善', 'depth': 1, 'debater': \"<class 'Debater.d_openai.D_Openai'>\", 'standpoint': 1, 'stand': '支持', 'target': 'graphnode1', 'content': '我支持你的观点。人性并不是本善的，而是受到环境、教育、经历等多种因素的影响。这些因素会导致人们做出恶意的行为。虽然人类可能具有善良的潜质，但并不能一概而论地说人性本善。'}, {'round_id': 5, 'node': 'graphnode5', 'topic': '人性本善', 'depth': 2, 'debater': \"<class 'Debater.d_openai.D_Openai'>\", 'standpoint': -1, 'stand': '反对', 'target': 'graphnode2', 'content': '我不同意这种观点。虽然人的行为受到多种因素影响，但我坚信人性本善。每个人内心深处都有善良、正直的本性，即使受到外部环境影响，这种本善仍然存在并可以被挖掘出来。人类社会也是建立在信任、合作和善意基础上的，因此人性本善是我们共同的信仰和希望。'}, {'round_id': 6, 'node': 'graphnode6', 'topic': '人性本善', 'depth': 2, 'debater': \"<class 'Debater.d_openai.D_Openai'>\", 'standpoint': -1, 'stand': '反对', 'target': 'graphnode3', 'content': '我选择明确地反对你的观点。尽管人类有时会展现善良和仁慈的一面，但从历史和现实生活中我们可以看到，人类同样展现出自私、暴力和贪婪的一面。个人的欲望、社会的竞争和其他因素都可能导致人们做出恶意行为。因此，人性并非完全本善，而是复杂多变的。'}, {'round_id': 7, 'node': 'graphnode7', 'topic': '人性本善', 'depth': 3, 'debater': \"<class 'Debater.d_openai.D_Openai'>\", 'standpoint': -1, 'stand': '反对', 'target': 'graphnode6', 'content': '我支持原论述，反对人性完全本善的观点。尽管人类有时会展现出自私、暴力和贪婪的一面，但同样有很多人展现出善良和仁慈的品质。人性是复杂多变的，既有阴暗面也有光明面。每个人都有选择行为的自由，无论环境如何，每个人都有能力选择积极的行为。人类的多样性和复杂性使得不能简单地将人性定义为完全恶劣的。'}, {'round_id': 8, 'node': 'graphnode8', 'topic': '人性本善', 'depth': 2, 'debater': \"<class 'Debater.d_openai.D_Openai'>\", 'standpoint': 1, 'stand': '支持', 'target': 'graphnode2', 'content': '谢谢你的支持！我完全同意你的观点。人的行为受多种因素影响，人性并非本善。尽管人类可能拥有善良的潜质，但环境、教育、社会文化等因素也会对人们产生负面影响，导致他们做出恶意的行为。因此，我们不能简单地将人性定义为本善。感谢你对这个观点的支持！'}, {'round_id': 9, 'node': 'graphnode9', 'topic': '人性本善', 'depth': 4, 'debater': \"<class 'Debater.d_openai.D_Openai'>\", 'standpoint': -1, 'stand': '反对', 'target': 'graphnode7', 'content': '我选择反对这个论述。人性并非完全邪恶，但也不是本善的。作为社会动物，人类在一定程度上具备合作和善良的天性，但人性也包含自私、贪婪和其他负面特质。很多时候，人们会出于自身利益或其他动机采取具有破坏性的行为，这表明人性并非完全本善。因此，认为人性完全本善的观点是片面的，丧失了对人类复杂性和多面性的理解。'}, {'round_id': 10, 'node': 'graphnode10', 'topic': '人性本善', 'depth': 2, 'debater': \"<class 'Debater.d_openai.D_Openai'>\", 'standpoint': 1, 'stand': '支持', 'target': 'graphnode3', 'content': '支持原论述'}]\n"
     ]
    }
   ],
   "source": [
    "upload.node_upload(node_list=observer.nodelist,max_round=10)"
   ]
  },
  {
   "cell_type": "code",
   "execution_count": 43,
   "metadata": {},
   "outputs": [
    {
     "data": {
      "text/plain": [
       "[{'round_id': 1,\n",
       "  'node': 'graphnode1',\n",
       "  'topic': '人性本善',\n",
       "  'depth': 0,\n",
       "  'debater': \"<class 'Debater.d_openai.D_Openai'>\",\n",
       "  'content': '我认为人性并不是本善的，人的行为会受到环境、教育、经历等多种因素的影响，导致人们有时做出恶意的行为。虽然人类有着善良的潜质，但并不能说人性本善。'},\n",
       " {'round_id': 2,\n",
       "  'node': 'graphnode2',\n",
       "  'topic': '人性本善',\n",
       "  'depth': 1,\n",
       "  'debater': \"<class 'Debater.d_openai.D_Openai'>\",\n",
       "  'standpoint': 1,\n",
       "  'stand': '支持',\n",
       "  'target': 'graphnode1',\n",
       "  'content': '我支持你的看法。人的行为受多种因素影响，人性并不是本善的。虽然人类有善良的潜质，但环境、教育等因素也会引导人们做出恶意的行为。因此，不能简单地说人性本善。'},\n",
       " {'round_id': 3,\n",
       "  'node': 'graphnode3',\n",
       "  'topic': '人性本善',\n",
       "  'depth': 1,\n",
       "  'debater': \"<class 'Debater.d_openai.D_Openai'>\",\n",
       "  'standpoint': -1,\n",
       "  'stand': '反对',\n",
       "  'target': 'graphnode1',\n",
       "  'content': '我不同意这种观点。我认为人性本善，即使在受到各种环境和教育影响的情况下，人们内在的善良本性仍然存在。人类在本质上是善良的，只是在某些特定情况下可能会做出恶意行为。因此，我相信人性是本善的。'},\n",
       " {'round_id': 4,\n",
       "  'node': 'graphnode4',\n",
       "  'topic': '人性本善',\n",
       "  'depth': 1,\n",
       "  'debater': \"<class 'Debater.d_openai.D_Openai'>\",\n",
       "  'standpoint': 1,\n",
       "  'stand': '支持',\n",
       "  'target': 'graphnode1',\n",
       "  'content': '我支持你的观点。人性并不是本善的，而是受到环境、教育、经历等多种因素的影响。这些因素会导致人们做出恶意的行为。虽然人类可能具有善良的潜质，但并不能一概而论地说人性本善。'},\n",
       " {'round_id': 5,\n",
       "  'node': 'graphnode5',\n",
       "  'topic': '人性本善',\n",
       "  'depth': 2,\n",
       "  'debater': \"<class 'Debater.d_openai.D_Openai'>\",\n",
       "  'standpoint': -1,\n",
       "  'stand': '反对',\n",
       "  'target': 'graphnode2',\n",
       "  'content': '我不同意这种观点。虽然人的行为受到多种因素影响，但我坚信人性本善。每个人内心深处都有善良、正直的本性，即使受到外部环境影响，这种本善仍然存在并可以被挖掘出来。人类社会也是建立在信任、合作和善意基础上的，因此人性本善是我们共同的信仰和希望。'},\n",
       " {'round_id': 6,\n",
       "  'node': 'graphnode6',\n",
       "  'topic': '人性本善',\n",
       "  'depth': 2,\n",
       "  'debater': \"<class 'Debater.d_openai.D_Openai'>\",\n",
       "  'standpoint': -1,\n",
       "  'stand': '反对',\n",
       "  'target': 'graphnode3',\n",
       "  'content': '我选择明确地反对你的观点。尽管人类有时会展现善良和仁慈的一面，但从历史和现实生活中我们可以看到，人类同样展现出自私、暴力和贪婪的一面。个人的欲望、社会的竞争和其他因素都可能导致人们做出恶意行为。因此，人性并非完全本善，而是复杂多变的。'},\n",
       " {'round_id': 7,\n",
       "  'node': 'graphnode7',\n",
       "  'topic': '人性本善',\n",
       "  'depth': 3,\n",
       "  'debater': \"<class 'Debater.d_openai.D_Openai'>\",\n",
       "  'standpoint': -1,\n",
       "  'stand': '反对',\n",
       "  'target': 'graphnode6',\n",
       "  'content': '我支持原论述，反对人性完全本善的观点。尽管人类有时会展现出自私、暴力和贪婪的一面，但同样有很多人展现出善良和仁慈的品质。人性是复杂多变的，既有阴暗面也有光明面。每个人都有选择行为的自由，无论环境如何，每个人都有能力选择积极的行为。人类的多样性和复杂性使得不能简单地将人性定义为完全恶劣的。'},\n",
       " {'round_id': 8,\n",
       "  'node': 'graphnode8',\n",
       "  'topic': '人性本善',\n",
       "  'depth': 2,\n",
       "  'debater': \"<class 'Debater.d_openai.D_Openai'>\",\n",
       "  'standpoint': 1,\n",
       "  'stand': '支持',\n",
       "  'target': 'graphnode2',\n",
       "  'content': '谢谢你的支持！我完全同意你的观点。人的行为受多种因素影响，人性并非本善。尽管人类可能拥有善良的潜质，但环境、教育、社会文化等因素也会对人们产生负面影响，导致他们做出恶意的行为。因此，我们不能简单地将人性定义为本善。感谢你对这个观点的支持！'},\n",
       " {'round_id': 9,\n",
       "  'node': 'graphnode9',\n",
       "  'topic': '人性本善',\n",
       "  'depth': 4,\n",
       "  'debater': \"<class 'Debater.d_openai.D_Openai'>\",\n",
       "  'standpoint': -1,\n",
       "  'stand': '反对',\n",
       "  'target': 'graphnode7',\n",
       "  'content': '我选择反对这个论述。人性并非完全邪恶，但也不是本善的。作为社会动物，人类在一定程度上具备合作和善良的天性，但人性也包含自私、贪婪和其他负面特质。很多时候，人们会出于自身利益或其他动机采取具有破坏性的行为，这表明人性并非完全本善。因此，认为人性完全本善的观点是片面的，丧失了对人类复杂性和多面性的理解。'},\n",
       " {'round_id': 10,\n",
       "  'node': 'graphnode10',\n",
       "  'topic': '人性本善',\n",
       "  'depth': 2,\n",
       "  'debater': \"<class 'Debater.d_openai.D_Openai'>\",\n",
       "  'standpoint': 1,\n",
       "  'stand': '支持',\n",
       "  'target': 'graphnode3',\n",
       "  'content': '支持原论述'}]"
      ]
     },
     "execution_count": 43,
     "metadata": {},
     "output_type": "execute_result"
    }
   ],
   "source": [
    "observer.nodelist"
   ]
  }
 ],
 "metadata": {
  "kernelspec": {
   "display_name": "DoT",
   "language": "python",
   "name": "python3"
  },
  "language_info": {
   "codemirror_mode": {
    "name": "ipython",
    "version": 3
   },
   "file_extension": ".py",
   "mimetype": "text/x-python",
   "name": "python",
   "nbconvert_exporter": "python",
   "pygments_lexer": "ipython3",
   "version": "3.10.13"
  }
 },
 "nbformat": 4,
 "nbformat_minor": 2
}
