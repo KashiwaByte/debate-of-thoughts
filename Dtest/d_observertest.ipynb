{
 "cells": [
  {
   "cell_type": "code",
   "execution_count": 1,
   "metadata": {},
   "outputs": [
    {
     "data": {
      "text/plain": [
       "'\\n@DATE: 2024-03-19 15:55:32\\n@File: Dtest\\\\d_observertest.ipynb\\n@IDE: vscode\\n@Description:\\n    Observer初版测试，联动debater和node\\n'"
      ]
     },
     "execution_count": 1,
     "metadata": {},
     "output_type": "execute_result"
    }
   ],
   "source": [
    "#!/usr/bin/env python\n",
    "# -*- coding: utf-8 -*-\n",
    "r\"\"\"\n",
    "@DATE: 2024-03-19 15:55:32\n",
    "@File: Dtest\\d_observertest.ipynb\n",
    "@IDE: vscode\n",
    "@Description:\n",
    "    Observer初版测试，联动debater和node\n",
    "\"\"\""
   ]
  },
  {
   "cell_type": "code",
   "execution_count": 2,
   "metadata": {},
   "outputs": [],
   "source": [
    "import sys\n",
    "sys.path.append('D:\\debate-of-thoughts')\n",
    "from Dnode import InitNode,NormNode\n",
    "from Dobserver import AbObserver\n",
    "from Debater import D_Openai"
   ]
  },
  {
   "cell_type": "code",
   "execution_count": 3,
   "metadata": {},
   "outputs": [],
   "source": [
    "topic=\"篮球界的GoAT是谁\""
   ]
  },
  {
   "cell_type": "code",
   "execution_count": 4,
   "metadata": {},
   "outputs": [],
   "source": [
    "debaterA = D_Openai(api_key=\"Put your API Here\")\n",
    "debaterB = D_Openai(api_key=\"Put your API Here\")\n",
    "\n",
    "observer = AbObserver(name=\"初号机\")\n",
    "\n",
    "node1 =  InitNode(topic=topic,debater=debaterA)\n",
    "\n",
    "\n"
   ]
  },
  {
   "cell_type": "code",
   "execution_count": 5,
   "metadata": {},
   "outputs": [],
   "source": [
    "node1.content = \"篮球界的GOAT通常指的是迈克尔·乔丹（Michael Jordan）。他被认为是最伟大的篮球运动员之一，拥有6次NBA总冠军、5次常规赛MVP、14次全明星等众多荣誉。然而，有些人认为勒布朗·詹姆斯（LeBron James）也有可能成为GOAT之一，因为他同样取得了辉煌的成就和统治力。不过，目前大多数人仍将乔丹视为篮球界的GOAT。\""
   ]
  },
  {
   "cell_type": "code",
   "execution_count": 6,
   "metadata": {},
   "outputs": [],
   "source": [
    "observer.init_node(node1)\n",
    "observer.update()"
   ]
  },
  {
   "cell_type": "code",
   "execution_count": 7,
   "metadata": {},
   "outputs": [
    {
     "name": "stdout",
     "output_type": "stream",
     "text": [
      "当前观测到的关系表：\n",
      "[0]\n",
      "当前观测到深度表：\n",
      "{'node1': 0}\n",
      "当前观测到的辩手表：\n",
      "{'node1': <Debater.d_openai.D_Openai object at 0x000001EECB937E80>}\n"
     ]
    }
   ],
   "source": [
    "print(\"当前观测到的关系表：\")\n",
    "print(observer.relation)\n",
    "print(\"当前观测到深度表：\")\n",
    "print(observer.depthdict)\n",
    "print(\"当前观测到的辩手表：\")\n",
    "print(observer.debaterdict)"
   ]
  },
  {
   "cell_type": "code",
   "execution_count": 8,
   "metadata": {},
   "outputs": [],
   "source": [
    "node2 =  NormNode(round=2,out_node=node1,debater=debaterB,standpoint= -1)\n",
    "node2.get()\n",
    "node2.content = \"作为一名观点鲜明的辩手，我选择反对将迈克尔·乔丹视为篮球界的GOAT。尽管乔丹拥有令人瞩目的成就和荣誉，但这并不意味着他就是绝对的最伟大篮球运动员。勒布朗·詹姆斯同样拥有众多惊人的成就和统治力，他的篮球技术、领导力和影响力也不容小觑。虽然目前大多数人将乔丹视为GOAT，但这并不代表其他球员无法挑战这一地位。在篮球界的发展历程中，总会有新的优秀球员出现，而将乔丹作为绝对的GOAT可能会限制对其他球员的评价和认可。因此，我们应该对不同球员的成就和表现持开放和客观的态度，而不是过度偏袒特定人物。\"\n",
    "\n",
    "\n"
   ]
  },
  {
   "cell_type": "code",
   "execution_count": 9,
   "metadata": {},
   "outputs": [
    {
     "name": "stdout",
     "output_type": "stream",
     "text": [
      "[{'round_id': 1, 'topic': '篮球界的GoAT是谁', 'depth': 0, 'debater': <Debater.d_openai.D_Openai object at 0x000001EECB937E80>, 'content': '篮球界的GOAT通常指的是迈克尔·乔丹（Michael Jordan）。他被认为是最伟大的篮球运动员之一，拥有6次NBA总冠军、5次常规赛MVP、14次全明星等众多荣誉。然而，有些人认为勒布朗·詹姆斯（LeBron James）也有可能成为GOAT之一，因为他同样取得了辉煌的成就和统治力。不过，目前大多数人仍将乔丹视为篮球界的GOAT。'}, {'round_id': 2, 'depth': 1, 'debater': <Debater.d_openai.D_Openai object at 0x000001EEAA0678E0>, 'standpoint': -1, 'stand': '反对', 'target': <Dnode.initialnode.InitNode object at 0x000001EECB95B2E0>, 'content': '作为一名观点鲜明的辩手，我选择反对将迈克尔·乔丹视为篮球界的GOAT。尽管乔丹拥有令人瞩目的成就和荣誉，但这并不意味着他就是绝对的最伟大篮球运动员。勒布朗·詹姆斯同样拥有众多惊人的成就和统治力，他的篮球技术、领导力和影响力也不容小觑。虽然目前大多数人将乔丹视为GOAT，但这并不代表其他球员无法挑战这一地位。在篮球界的发展历程中，总会有新的优秀球员出现，而将乔丹作为绝对的GOAT可能会限制对其他球员的评价和认可。因此，我们应该对不同球员的成就和表现持开放和客观的态度，而不是过度偏袒特定人物。'}]\n"
     ]
    }
   ],
   "source": [
    "observer.update_node(node2)\n",
    "observer.update()\n",
    "\n",
    "print(observer.nodelist)\n"
   ]
  },
  {
   "cell_type": "code",
   "execution_count": 10,
   "metadata": {},
   "outputs": [
    {
     "name": "stdout",
     "output_type": "stream",
     "text": [
      "当前观测到的关系表：\n",
      "[[ 0  0]\n",
      " [-1  0]]\n",
      "当前观测到深度表：\n",
      "{'node1': 0, 'node2': 1}\n",
      "当前观测到的辩手表：\n",
      "{'node1': <Debater.d_openai.D_Openai object at 0x000001EECB937E80>, 'node2': <Debater.d_openai.D_Openai object at 0x000001EEAA0678E0>}\n"
     ]
    }
   ],
   "source": [
    "print(\"当前观测到的关系表：\")\n",
    "print(observer.relation)\n",
    "print(\"当前观测到深度表：\")\n",
    "print(observer.depthdict)\n",
    "print(\"当前观测到的辩手表：\")\n",
    "print(observer.debaterdict)"
   ]
  },
  {
   "cell_type": "code",
   "execution_count": 11,
   "metadata": {},
   "outputs": [],
   "source": [
    "\n",
    "node3 =  NormNode(round=3,out_node=node2,debater=debaterB,standpoint=1)\n",
    "node3.get()\n",
    "node3.content = \"我也认为勒布朗是真正的GoAT，因为乔丹只是远古冠军。\""
   ]
  },
  {
   "cell_type": "code",
   "execution_count": 12,
   "metadata": {},
   "outputs": [],
   "source": [
    "observer.update_node(node3)\n",
    "observer.update()\n"
   ]
  },
  {
   "cell_type": "code",
   "execution_count": 13,
   "metadata": {},
   "outputs": [
    {
     "name": "stdout",
     "output_type": "stream",
     "text": [
      "当前观测到的关系表：\n",
      "[[ 0  0  0]\n",
      " [-1  0  0]\n",
      " [ 0  1  0]]\n",
      "当前观测到深度表：\n",
      "{'node1': 0, 'node2': 1, 'node3': 2}\n",
      "当前观测到的辩手表：\n",
      "{'node1': <Debater.d_openai.D_Openai object at 0x000001EECB937E80>, 'node2': <Debater.d_openai.D_Openai object at 0x000001EEAA0678E0>, 'node3': <Debater.d_openai.D_Openai object at 0x000001EEAA0678E0>}\n"
     ]
    }
   ],
   "source": [
    "print(\"当前观测到的关系表：\")\n",
    "print(observer.relation)\n",
    "print(\"当前观测到深度表：\")\n",
    "print(observer.depthdict)\n",
    "print(\"当前观测到的辩手表：\")\n",
    "print(observer.debaterdict)"
   ]
  },
  {
   "cell_type": "code",
   "execution_count": 14,
   "metadata": {},
   "outputs": [
    {
     "data": {
      "text/plain": [
       "[{'round_id': 1,\n",
       "  'topic': '篮球界的GoAT是谁',\n",
       "  'depth': 0,\n",
       "  'debater': <Debater.d_openai.D_Openai at 0x1eecb937e80>,\n",
       "  'content': '篮球界的GOAT通常指的是迈克尔·乔丹（Michael Jordan）。他被认为是最伟大的篮球运动员之一，拥有6次NBA总冠军、5次常规赛MVP、14次全明星等众多荣誉。然而，有些人认为勒布朗·詹姆斯（LeBron James）也有可能成为GOAT之一，因为他同样取得了辉煌的成就和统治力。不过，目前大多数人仍将乔丹视为篮球界的GOAT。'},\n",
       " {'round_id': 2,\n",
       "  'depth': 1,\n",
       "  'debater': <Debater.d_openai.D_Openai at 0x1eeaa0678e0>,\n",
       "  'standpoint': -1,\n",
       "  'stand': '反对',\n",
       "  'target': <Dnode.initialnode.InitNode at 0x1eecb95b2e0>,\n",
       "  'content': '作为一名观点鲜明的辩手，我选择反对将迈克尔·乔丹视为篮球界的GOAT。尽管乔丹拥有令人瞩目的成就和荣誉，但这并不意味着他就是绝对的最伟大篮球运动员。勒布朗·詹姆斯同样拥有众多惊人的成就和统治力，他的篮球技术、领导力和影响力也不容小觑。虽然目前大多数人将乔丹视为GOAT，但这并不代表其他球员无法挑战这一地位。在篮球界的发展历程中，总会有新的优秀球员出现，而将乔丹作为绝对的GOAT可能会限制对其他球员的评价和认可。因此，我们应该对不同球员的成就和表现持开放和客观的态度，而不是过度偏袒特定人物。'},\n",
       " {'round_id': 3,\n",
       "  'depth': 2,\n",
       "  'debater': <Debater.d_openai.D_Openai at 0x1eeaa0678e0>,\n",
       "  'standpoint': 1,\n",
       "  'stand': '支持',\n",
       "  'target': <Dnode.normnode.NormNode at 0x1eecb95b790>,\n",
       "  'content': '我也认为勒布朗是真正的GoAT，因为乔丹只是远古冠军。'}]"
      ]
     },
     "execution_count": 14,
     "metadata": {},
     "output_type": "execute_result"
    }
   ],
   "source": [
    "observer.nodelist"
   ]
  }
 ],
 "metadata": {
  "kernelspec": {
   "display_name": "DoT",
   "language": "python",
   "name": "python3"
  },
  "language_info": {
   "codemirror_mode": {
    "name": "ipython",
    "version": 3
   },
   "file_extension": ".py",
   "mimetype": "text/x-python",
   "name": "python",
   "nbconvert_exporter": "python",
   "pygments_lexer": "ipython3",
   "version": "3.10.13"
  }
 },
 "nbformat": 4,
 "nbformat_minor": 2
}
