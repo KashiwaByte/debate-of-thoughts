{
 "cells": [
  {
   "cell_type": "code",
   "execution_count": null,
   "metadata": {},
   "outputs": [],
   "source": [
    "#!/usr/bin/env python\n",
    "# -*- coding: utf-8 -*-\n",
    "r\"\"\"\n",
    "@DATE: 2024-03-23 11:41:33\n",
    "@File: Dresearch\\quality.ipynb\n",
    "@IDE: vscode\n",
    "@Description:\n",
    "    基于IBM Project Debater的API实现质量评估\n",
    "\"\"\""
   ]
  },
  {
   "cell_type": "code",
   "execution_count": 1,
   "metadata": {},
   "outputs": [
    {
     "name": "stderr",
     "output_type": "stream",
     "text": [
      "ArgumentQualityClient: 100%|██████████| 3/3 [00:02<00:00,  1.29it/s]"
     ]
    },
    {
     "name": "stdout",
     "output_type": "stream",
     "text": [
      "sentence: Cars should only provide assisted driving, not complete autonomy.\n",
      "topic: We should further explore the development of autonomous vehicles\n",
      "score: 0.8448\n",
      "\n",
      "sentence: Cars cars cars cars who cares\n",
      "topic: We should further explore the development of autonomous vehicles\n",
      "score: 0.2785\n",
      "\n",
      "sentence: that he given sun roads sea\n",
      "topic: We should further explore the development of autonomous vehicles\n",
      "score: 0.2842\n",
      "\n"
     ]
    },
    {
     "name": "stderr",
     "output_type": "stream",
     "text": [
      "\n"
     ]
    }
   ],
   "source": [
    "\n",
    "from debater_python_api.api.debater_api import DebaterApi\n",
    "\n",
    "debater_api = DebaterApi('Put your API Here')\n",
    "argument_quality_client = debater_api.get_argument_quality_client()\n",
    "\n",
    "topic = \"We should further explore the development of autonomous vehicles\"\n",
    "sentences = [\n",
    "    'Cars should only provide assisted driving, not complete autonomy.',\n",
    "    'Cars cars cars cars who cares',\n",
    "    'that he given sun roads sea']\n",
    "\n",
    "sentence_topic_dicts = [{'sentence': sentence, 'topic': topic} for sentence in sentences]\n",
    "\n",
    "scores = argument_quality_client.run(sentence_topic_dicts)\n",
    "\n",
    "for i in range(len(scores)):\n",
    "    print(\"sentence: \" + sentence_topic_dicts[i]['sentence'])\n",
    "    print(\"topic: \"+sentence_topic_dicts[i]['topic'])\n",
    "    print(\"score: \"+\"{:.4f}\".format(scores[i]))\n",
    "    print()\n"
   ]
  },
  {
   "cell_type": "code",
   "execution_count": 8,
   "metadata": {},
   "outputs": [
    {
     "name": "stderr",
     "output_type": "stream",
     "text": [
      "ArgumentQualityClient: 100%|██████████| 5/5 [00:01<00:00,  3.08it/s]"
     ]
    },
    {
     "name": "stdout",
     "output_type": "stream",
     "text": [
      "sentence: 我认为人性本善\n",
      "topic: 人性本善\n",
      "score: 0.6017\n",
      "\n",
      "sentence: 我认为人性本善，因为人们会自发的帮助他人，有怜悯之心\n",
      "topic: 人性本善\n",
      "score: 0.7087\n",
      "\n",
      "sentence: 我认为人性本善，因为很多哲学家也这么说\n",
      "topic: 人性本善\n",
      "score: 0.6682\n",
      "\n",
      "sentence: 阿巴阿巴\n",
      "topic: 人性本善\n",
      "score: 0.5867\n",
      "\n",
      "sentence: 我认为人性本恶，因为世界上有很多战争而且人们往往会互相残杀\n",
      "topic: 人性本善\n",
      "score: 0.7070\n",
      "\n"
     ]
    },
    {
     "name": "stderr",
     "output_type": "stream",
     "text": [
      "\n"
     ]
    }
   ],
   "source": [
    "topic = \"人性本善\"\n",
    "sentences = [\n",
    "    '我认为人性本善',\n",
    "    '我认为人性本善，因为人们会自发的帮助他人，有怜悯之心',\n",
    "    '我认为人性本善，因为很多哲学家也这么说',\n",
    "    '阿巴阿巴',\n",
    "    '我认为人性本恶，因为世界上有很多战争而且人们往往会互相残杀']\n",
    "\n",
    "sentence_topic_dicts = [{'sentence': sentence, 'topic': topic} for sentence in sentences]\n",
    "\n",
    "scores = argument_quality_client.run(sentence_topic_dicts)\n",
    "\n",
    "for i in range(len(scores)):\n",
    "    print(\"sentence: \" + sentence_topic_dicts[i]['sentence'])\n",
    "    print(\"topic: \"+sentence_topic_dicts[i]['topic'])\n",
    "    print(\"score: \"+\"{:.4f}\".format(scores[i]))\n",
    "    print()"
   ]
  },
  {
   "cell_type": "code",
   "execution_count": 7,
   "metadata": {},
   "outputs": [
    {
     "name": "stderr",
     "output_type": "stream",
     "text": [
      "ArgumentQualityClient: 100%|██████████| 5/5 [00:01<00:00,  3.51it/s]"
     ]
    },
    {
     "name": "stdout",
     "output_type": "stream",
     "text": [
      "sentence: I believe that human nature is good\n",
      "topic: Human nature is good\n",
      "score: 0.3362\n",
      "\n",
      "sentence: I believe that human nature is good, because people spontaneously help others and have a sense of compassion\n",
      "topic: Human nature is good\n",
      "score: 0.6238\n",
      "\n",
      "sentence: I believe that human nature is good, as many philosophers also say so\n",
      "topic: Human nature is good\n",
      "score: 0.3804\n",
      "\n",
      "sentence: Blah blah\n",
      "topic: Human nature is good\n",
      "score: 0.3578\n",
      "\n",
      "sentence: I believe that human nature is bad,because wars are everywhere and people always kill other people\n",
      "topic: Human nature is good\n",
      "score: 0.5140\n",
      "\n"
     ]
    },
    {
     "name": "stderr",
     "output_type": "stream",
     "text": [
      "\n"
     ]
    }
   ],
   "source": [
    "topic = \"Human nature is good\"\n",
    "sentences = [\n",
    "'I believe that human nature is good',\n",
    "'I believe that human nature is good, because people spontaneously help others and have a sense of compassion',\n",
    "'I believe that human nature is good, as many philosophers also say so',\n",
    "'Blah blah',\n",
    "'I believe that human nature is bad,because wars are everywhere and people always kill other people']\n",
    "\n",
    "sentence_topic_dicts = [{'sentence': sentence, 'topic': topic} for sentence in sentences]\n",
    "\n",
    "scores = argument_quality_client.run(sentence_topic_dicts)\n",
    "\n",
    "for i in range(len(scores)):\n",
    "    print(\"sentence: \" + sentence_topic_dicts[i]['sentence'])\n",
    "    print(\"topic: \"+sentence_topic_dicts[i]['topic'])\n",
    "    print(\"score: \"+\"{:.4f}\".format(scores[i]))\n",
    "    print()"
   ]
  }
 ],
 "metadata": {
  "kernelspec": {
   "display_name": "DoT",
   "language": "python",
   "name": "python3"
  },
  "language_info": {
   "codemirror_mode": {
    "name": "ipython",
    "version": 3
   },
   "file_extension": ".py",
   "mimetype": "text/x-python",
   "name": "python",
   "nbconvert_exporter": "python",
   "pygments_lexer": "ipython3",
   "version": "3.10.0"
  }
 },
 "nbformat": 4,
 "nbformat_minor": 2
}
