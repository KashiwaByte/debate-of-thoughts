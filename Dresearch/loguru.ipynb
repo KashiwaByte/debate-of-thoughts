{
 "cells": [
  {
   "cell_type": "code",
   "execution_count": 2,
   "metadata": {},
   "outputs": [
    {
     "name": "stderr",
     "output_type": "stream",
     "text": [
      "\u001b[32m2024-03-19 21:55:57.292\u001b[0m | \u001b[1mINFO    \u001b[0m | \u001b[36m__main__\u001b[0m:\u001b[36m<module>\u001b[0m:\u001b[36m3\u001b[0m - \u001b[1mThat's it, beautiful and simple logging!\u001b[0m\n"
     ]
    }
   ],
   "source": [
    "from loguru import logger\n",
    "\n",
    "logger.info(\"That's it, beautiful and simple logging!\")\n",
    "logger.info()"
   ]
  },
  {
   "cell_type": "code",
   "execution_count": 3,
   "metadata": {},
   "outputs": [
    {
     "name": "stdout",
     "output_type": "stream",
     "text": [
      "[[0 1 0]\n",
      " [1 0 0]\n",
      " [0 0 0]]\n"
     ]
    }
   ],
   "source": [
    "import numpy as np\n",
    "original_matrix = np.array([[0,1],[1,0]])\n",
    "\n",
    "# 使用np.pad()函数填充原有矩阵，只填充右侧和下侧\n",
    "padded_matrix = np.pad(original_matrix, pad_width=((0, 1), (0, 1)), mode='constant')\n",
    "update_matrix = padded_matrix\n",
    "print(update_matrix)"
   ]
  },
  {
   "cell_type": "code",
   "execution_count": 12,
   "metadata": {},
   "outputs": [
    {
     "name": "stderr",
     "output_type": "stream",
     "text": [
      "\u001b[32m2024-03-19 22:00:09.528\u001b[0m | \u001b[1mINFO    \u001b[0m | \u001b[36m__main__\u001b[0m:\u001b[36m<module>\u001b[0m:\u001b[36m1\u001b[0m - \u001b[1m\n",
      "当前的矩阵图为:\n",
      "[[0 1 0]\n",
      " [1 0 0]\n",
      " [0 0 0]]\u001b[0m\n"
     ]
    }
   ],
   "source": [
    "logger.info(f'\\n当前的矩阵图为:\\n{update_matrix}')"
   ]
  },
  {
   "cell_type": "code",
   "execution_count": 13,
   "metadata": {},
   "outputs": [
    {
     "data": {
      "text/plain": [
       "1"
      ]
     },
     "execution_count": 13,
     "metadata": {},
     "output_type": "execute_result"
    }
   ],
   "source": [
    "logger.add(\"logs/file_{time}.log\", encoding=\"utf-8\")\n"
   ]
  },
  {
   "cell_type": "code",
   "execution_count": 14,
   "metadata": {},
   "outputs": [
    {
     "name": "stderr",
     "output_type": "stream",
     "text": [
      "\u001b[32m2024-03-19 22:00:57.656\u001b[0m | \u001b[1mINFO    \u001b[0m | \u001b[36m__main__\u001b[0m:\u001b[36m<module>\u001b[0m:\u001b[36m1\u001b[0m - \u001b[1m\n",
      "当前的矩阵图为:\n",
      "[[0 1 0]\n",
      " [1 0 0]\n",
      " [0 0 0]]\u001b[0m\n"
     ]
    }
   ],
   "source": [
    "logger.info(f'\\n当前的矩阵图为:\\n{update_matrix}')"
   ]
  },
  {
   "cell_type": "code",
   "execution_count": 15,
   "metadata": {},
   "outputs": [
    {
     "name": "stderr",
     "output_type": "stream",
     "text": [
      "\u001b[32m2024-03-19 22:01:21.760\u001b[0m | \u001b[1mINFO    \u001b[0m | \u001b[36m__main__\u001b[0m:\u001b[36m<module>\u001b[0m:\u001b[36m1\u001b[0m - \u001b[1m\n",
      "当前的轮次为:1\u001b[0m\n"
     ]
    }
   ],
   "source": [
    "logger.info(f'\\n当前的轮次为:1')"
   ]
  },
  {
   "cell_type": "markdown",
   "metadata": {},
   "source": [
    "最终还是选择多个单行的f-string"
   ]
  },
  {
   "cell_type": "code",
   "execution_count": 17,
   "metadata": {},
   "outputs": [
    {
     "name": "stderr",
     "output_type": "stream",
     "text": [
      "\u001b[32m2024-03-19 22:03:55.928\u001b[0m | \u001b[1mINFO    \u001b[0m | \u001b[36m__main__\u001b[0m:\u001b[36m<module>\u001b[0m:\u001b[36m1\u001b[0m - \u001b[1m\n",
      "当前的轮次为:1\n",
      "当前的矩阵图为:\n",
      "[[0 1 0]\n",
      " [1 0 0]\n",
      " [0 0 0]]\n",
      "当前的节点是:node3\u001b[0m\n"
     ]
    }
   ],
   "source": [
    "logger.info(f'\\n当前的轮次为:1'\n",
    "            f'\\n当前的矩阵图为:\\n{update_matrix}'\n",
    "            f'\\n当前的节点是:node3')"
   ]
  },
  {
   "cell_type": "code",
   "execution_count": 18,
   "metadata": {},
   "outputs": [
    {
     "name": "stderr",
     "output_type": "stream",
     "text": [
      "\u001b[32m2024-03-19 22:05:32.353\u001b[0m | \u001b[1mINFO    \u001b[0m | \u001b[36m__main__\u001b[0m:\u001b[36m<module>\u001b[0m:\u001b[36m1\u001b[0m - \u001b[1m\n",
      "当前的轮次为:4\n",
      "            \n",
      "当前的矩阵图为:\n",
      "[[0 1 0]\n",
      " [1 0 0]\n",
      " [0 0 0]]\n",
      "            \n",
      "当前的节点是:node4\u001b[0m\n"
     ]
    }
   ],
   "source": [
    "logger.info(f'''\\n当前的轮次为:4\n",
    "            \\n当前的矩阵图为:\\n{update_matrix}\n",
    "            \\n当前的节点是:node4''')"
   ]
  },
  {
   "cell_type": "code",
   "execution_count": 20,
   "metadata": {},
   "outputs": [
    {
     "name": "stderr",
     "output_type": "stream",
     "text": [
      "\u001b[32m2024-03-19 22:06:16.889\u001b[0m | \u001b[1mINFO    \u001b[0m | \u001b[36m__main__\u001b[0m:\u001b[36m<module>\u001b[0m:\u001b[36m1\u001b[0m - \u001b[1m\n",
      "当前的轮次为:4\n",
      "            当前的矩阵图为:\n",
      "[[0 1 0]\n",
      " [1 0 0]\n",
      " [0 0 0]]\n",
      "            当前的节点是:node4\u001b[0m\n"
     ]
    }
   ],
   "source": [
    "logger.info(f'''\\n当前的轮次为:4\n",
    "            当前的矩阵图为:\\n{update_matrix}\n",
    "            当前的节点是:node4''')"
   ]
  }
 ],
 "metadata": {
  "kernelspec": {
   "display_name": "DoT",
   "language": "python",
   "name": "python3"
  },
  "language_info": {
   "codemirror_mode": {
    "name": "ipython",
    "version": 3
   },
   "file_extension": ".py",
   "mimetype": "text/x-python",
   "name": "python",
   "nbconvert_exporter": "python",
   "pygments_lexer": "ipython3",
   "version": "3.10.0"
  }
 },
 "nbformat": 4,
 "nbformat_minor": 2
}
