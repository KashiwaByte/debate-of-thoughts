{
 "cells": [
  {
   "cell_type": "code",
   "execution_count": 1,
   "metadata": {},
   "outputs": [],
   "source": [
    "import numpy"
   ]
  },
  {
   "cell_type": "code",
   "execution_count": 2,
   "metadata": {},
   "outputs": [],
   "source": [
    "def generate_matrix(round):\n",
    "    matrix = [[0] * round for _ in range(round)]  # 初始化矩阵所有元素为 0"
   ]
  },
  {
   "cell_type": "code",
   "execution_count": 4,
   "metadata": {},
   "outputs": [
    {
     "name": "stdout",
     "output_type": "stream",
     "text": [
      "None\n"
     ]
    }
   ],
   "source": [
    "matrix = generate_matrix(3)\n",
    "print(matrix)"
   ]
  },
  {
   "cell_type": "code",
   "execution_count": 3,
   "metadata": {},
   "outputs": [
    {
     "name": "stdout",
     "output_type": "stream",
     "text": [
      "[[ 1  2  3  4  5  6]\n",
      " [ 2  4  6  8 10 12]\n",
      " [ 3  6  9 12 15 18]\n",
      " [ 4  8 12 16 20 24]\n",
      " [ 5 10 15 20 25 30]\n",
      " [ 6 12 18 24 30 36]]\n"
     ]
    }
   ],
   "source": [
    "import numpy as np\n",
    "\n",
    "def generate_matrix(round):\n",
    "    values = np.arange(1, round + 1)\n",
    "    matrix = np.outer(values, values)\n",
    "    return matrix\n",
    "\n",
    "round = 6\n",
    "matrix = generate_matrix(round)\n",
    "print(matrix)"
   ]
  },
  {
   "cell_type": "code",
   "execution_count": 10,
   "metadata": {},
   "outputs": [
    {
     "data": {
      "text/plain": [
       "array([[0, 0, 0, 0, 0, 0],\n",
       "       [0, 0, 0, 0, 0, 0],\n",
       "       [0, 0, 0, 0, 0, 0],\n",
       "       [0, 0, 0, 0, 0, 0],\n",
       "       [0, 0, 0, 0, 0, 0],\n",
       "       [0, 0, 0, 0, 0, 0]])"
      ]
     },
     "execution_count": 10,
     "metadata": {},
     "output_type": "execute_result"
    }
   ],
   "source": [
    "np.zeros([round,round],dtype=int)\n",
    "\n",
    "\n"
   ]
  },
  {
   "cell_type": "code",
   "execution_count": 7,
   "metadata": {},
   "outputs": [
    {
     "name": "stdout",
     "output_type": "stream",
     "text": [
      "原有矩阵：\n",
      "[[ 0  1  0]\n",
      " [ 0  1  1]\n",
      " [-1  0 -1]]\n",
      "\n",
      "填充后的新矩阵：\n",
      "[[ 0  1  0  0]\n",
      " [ 0  1  1  0]\n",
      " [-1  0 -1  0]\n",
      " [ 0 10  0  0]]\n",
      "\n",
      "补充后的新矩阵\n",
      "[[ 0  1  0  0]\n",
      " [ 0  1  1  0]\n",
      " [-1  0 -1  0]\n",
      " [ 0 10  0  0]]\n"
     ]
    }
   ],
   "source": [
    "import numpy as np\n",
    "round = 4\n",
    "target_round =2\n",
    "\n",
    "# 创建一个3x3的原有矩阵\n",
    "original_matrix = np.array([[0, 1, 0],\n",
    "                             [0, 1, 1],\n",
    "                             [-1, 0, -1]])\n",
    "\n",
    "# 使用np.pad()函数填充原有矩阵，只填充右侧和下侧\n",
    "padded_matrix = np.pad(original_matrix, pad_width=((0, 1), (0, 1)), mode='constant')\n",
    "update_matrix = padded_matrix\n",
    "update_matrix[round-1,target_round-1]=10\n",
    "# 打印填充后的新矩阵和原有矩阵\n",
    "print(\"原有矩阵：\")\n",
    "print(original_matrix)\n",
    "print(\"\\n填充后的新矩阵：\")\n",
    "print(padded_matrix)\n",
    "print(\"\\n补充后的新矩阵\")\n",
    "print(update_matrix)"
   ]
  },
  {
   "cell_type": "code",
   "execution_count": 12,
   "metadata": {},
   "outputs": [
    {
     "name": "stdout",
     "output_type": "stream",
     "text": [
      "[[0 1 0]\n",
      " [1 0 0]\n",
      " [0 0 0]]\n"
     ]
    }
   ],
   "source": [
    "import numpy as np\n",
    "original_matrix = np.array([[0,1],[1,0]])\n",
    "\n",
    "# 使用np.pad()函数填充原有矩阵，只填充右侧和下侧\n",
    "padded_matrix = np.pad(original_matrix, pad_width=((0, 1), (0, 1)), mode='constant')\n",
    "update_matrix = padded_matrix\n",
    "print(update_matrix)"
   ]
  },
  {
   "cell_type": "code",
   "execution_count": 24,
   "metadata": {},
   "outputs": [
    {
     "name": "stdout",
     "output_type": "stream",
     "text": [
      "[[0 0]\n",
      " [0 0]]\n"
     ]
    }
   ],
   "source": [
    "original_matrix = np.array([[0,0],[0,0]])\n",
    "print(original_matrix)"
   ]
  },
  {
   "cell_type": "code",
   "execution_count": 21,
   "metadata": {},
   "outputs": [
    {
     "name": "stdout",
     "output_type": "stream",
     "text": [
      "[[0 1 0 0 0 0 0 0]\n",
      " [1 0 0 0 0 0 0 0]\n",
      " [0 0 0 0 0 0 0 0]\n",
      " [0 0 0 0 0 0 0 0]\n",
      " [0 0 0 0 0 0 0 0]\n",
      " [0 0 0 0 0 0 0 0]\n",
      " [0 0 0 0 0 0 0 0]\n",
      " [0 0 0 0 0 0 0 0]]\n"
     ]
    }
   ],
   "source": [
    "update_matrix = np.pad(update_matrix, pad_width=((0, 1), (0, 1)), mode='constant')\n",
    "\n",
    "print(update_matrix)"
   ]
  },
  {
   "cell_type": "code",
   "execution_count": 22,
   "metadata": {},
   "outputs": [
    {
     "ename": "AttributeError",
     "evalue": "'builtin_function_or_method' object has no attribute 'reshape'",
     "output_type": "error",
     "traceback": [
      "\u001b[1;31m---------------------------------------------------------------------------\u001b[0m",
      "\u001b[1;31mAttributeError\u001b[0m                            Traceback (most recent call last)",
      "Cell \u001b[1;32mIn[22], line 5\u001b[0m\n\u001b[0;32m      2\u001b[0m original_matrix \u001b[38;5;241m=\u001b[39m np\u001b[38;5;241m.\u001b[39marray(\u001b[38;5;241m0\u001b[39m)\n\u001b[0;32m      4\u001b[0m \u001b[38;5;66;03m# 使用np.pad()函数填充原有矩阵，只填充右侧和下侧\u001b[39;00m\n\u001b[1;32m----> 5\u001b[0m original_matrix \u001b[38;5;241m=\u001b[39m \u001b[43mnp\u001b[49m\u001b[38;5;241;43m.\u001b[39;49m\u001b[43marray\u001b[49m\u001b[38;5;241;43m.\u001b[39;49m\u001b[43mreshape\u001b[49m((\u001b[38;5;241m2\u001b[39m, \u001b[38;5;241m2\u001b[39m))\n\u001b[0;32m      6\u001b[0m update_matrix \u001b[38;5;241m=\u001b[39m padded_matrix\n\u001b[0;32m      7\u001b[0m \u001b[38;5;28mprint\u001b[39m(update_matrix)\n",
      "\u001b[1;31mAttributeError\u001b[0m: 'builtin_function_or_method' object has no attribute 'reshape'"
     ]
    }
   ],
   "source": [
    "import numpy as np\n",
    "original_matrix = np.array(0)\n",
    "\n",
    "# 使用np.pad()函数填充原有矩阵，只填充右侧和下侧\n",
    "original_matrix = np.array.reshape((2, 2))\n",
    "update_matrix = padded_matrix\n",
    "print(update_matrix)"
   ]
  }
 ],
 "metadata": {
  "kernelspec": {
   "display_name": "DoT",
   "language": "python",
   "name": "python3"
  },
  "language_info": {
   "codemirror_mode": {
    "name": "ipython",
    "version": 3
   },
   "file_extension": ".py",
   "mimetype": "text/x-python",
   "name": "python",
   "nbconvert_exporter": "python",
   "pygments_lexer": "ipython3",
   "version": "3.10.13"
  }
 },
 "nbformat": 4,
 "nbformat_minor": 2
}
