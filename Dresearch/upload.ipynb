{
 "cells": [
  {
   "cell_type": "markdown",
   "metadata": {},
   "source": [
    "# 节点生成"
   ]
  },
  {
   "cell_type": "code",
   "execution_count": 45,
   "metadata": {},
   "outputs": [],
   "source": [
    "import pandas as pd\n",
    "\n",
    "# 创建包含点属性的字典列表\n",
    "points_data = [\n",
    "    {\"round_id\": 1, \"point\": \"A\", \"depth\": 0, \"content\": \"内容A\", \"type\": \"类别1\"},\n",
    "    {\"round_id\": 2, \"point\": \"B\", \"depth\": 1, \"content\": \"内容B\", \"type\": \"类别2\"},\n",
    "    {\"round_id\": 3, \"point\": \"C\", \"depth\": 2, \"content\": \"内容C\", \"type\": \"类别3\"}\n",
    "]\n",
    "\n"
   ]
  },
  {
   "cell_type": "markdown",
   "metadata": {},
   "source": [
    "# 图数据库连接"
   ]
  },
  {
   "cell_type": "code",
   "execution_count": 4,
   "metadata": {},
   "outputs": [],
   "source": [
    "from py2neo import Graph, Node, Relationship\n",
    "\n",
    "\n",
    "graph = Graph(\"bolt://localhost:7687\", auth=(\"neo4j\", \"NEO123456neo\"))\n"
   ]
  },
  {
   "cell_type": "markdown",
   "metadata": {},
   "source": [
    "# 节点上传方法"
   ]
  },
  {
   "cell_type": "code",
   "execution_count": 43,
   "metadata": {},
   "outputs": [],
   "source": [
    "def node_upload(points_data):\n",
    "    i=len(points_data)\n",
    "    print(i)\n",
    "\n",
    "    node1=Node(\"Point\",**points_data[0])\n",
    "    node2=Node(\"Point\",**points_data[1])\n",
    "    node3=Node(\"Point\",**points_data[2])\n",
    " \n",
    "\n",
    "    relationship_1 = Relationship(node1, \"支持\", node2)\n",
    "    relationship_2 = Relationship(node2, \"反对\", node3)\n",
    "\n",
    "    graph.create(relationship_1)\n",
    "    graph.create(relationship_2)\n",
    "    "
   ]
  },
  {
   "cell_type": "code",
   "execution_count": 44,
   "metadata": {},
   "outputs": [
    {
     "name": "stdout",
     "output_type": "stream",
     "text": [
      "3\n"
     ]
    }
   ],
   "source": [
    "node_upload(points_data)"
   ]
  },
  {
   "cell_type": "markdown",
   "metadata": {},
   "source": [
    "# Neo4j清空命令\n",
    "\n",
    "```\n",
    "MATCH (n)\n",
    "OPTIONAL MATCH (n)-[r]-()\n",
    "DELETE n,r\n",
    "\n",
    "```"
   ]
  }
 ],
 "metadata": {
  "kernelspec": {
   "display_name": "DoT",
   "language": "python",
   "name": "python3"
  },
  "language_info": {
   "codemirror_mode": {
    "name": "ipython",
    "version": 3
   },
   "file_extension": ".py",
   "mimetype": "text/x-python",
   "name": "python",
   "nbconvert_exporter": "python",
   "pygments_lexer": "ipython3",
   "version": "3.10.13"
  }
 },
 "nbformat": 4,
 "nbformat_minor": 2
}
