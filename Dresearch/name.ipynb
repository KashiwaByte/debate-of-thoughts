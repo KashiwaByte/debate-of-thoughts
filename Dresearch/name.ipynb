{
 "cells": [
  {
   "cell_type": "code",
   "execution_count": null,
   "metadata": {},
   "outputs": [],
   "source": [
    "#!/usr/bin/env python\n",
    "# -*- coding: utf-8 -*-\n",
    "r\"\"\"\n",
    "@DATE: 2024-03-20 12:54:52\n",
    "@File: Dresearch\\name.ipynb\n",
    "@IDE: vscode\n",
    "@Description:\n",
    "    规律命名调研与实验\n",
    "\"\"\""
   ]
  },
  {
   "cell_type": "code",
   "execution_count": 4,
   "metadata": {},
   "outputs": [
    {
     "name": "stdout",
     "output_type": "stream",
     "text": [
      "node_i\n",
      "['1', '1', '1']\n"
     ]
    }
   ],
   "source": [
    "var_name = 'node'\n",
    "new_name = var_name + '_i'\n",
    "\n",
    "globals()[new_name] = list(\"111\")\n",
    "print(new_name)\n",
    "print(globals()[new_name])"
   ]
  },
  {
   "cell_type": "code",
   "execution_count": 5,
   "metadata": {},
   "outputs": [
    {
     "name": "stdout",
     "output_type": "stream",
     "text": [
      "['abc', [1, 2, 3], {'a': 1, 'b': 2, 'c': 3}, {1, 2, 3, 4}, (1, 2, 3), <generator object <genexpr> at 0x000001CEDDACCE40>, 123]\n"
     ]
    }
   ],
   "source": [
    "obj1 = 'abc'\n",
    "obj2 = [1, 2, 3]\n",
    "obj3 = {'a': 1, 'b': 2, 'c': 3}\n",
    "obj4 = {1, 2, 3, 4}\n",
    "obj5 = (1, 2, 3)\n",
    "obj6 = (x for x in range(1,5))\n",
    "obj7 = 123\n",
    "\n",
    "list_content = []\n",
    "for i in range(1, 8):\n",
    "    content = 'obj' + str(i)\n",
    "    list_content.append(eval(content))\n",
    "print(list_content)"
   ]
  },
  {
   "attachments": {},
   "cell_type": "markdown",
   "metadata": {},
   "source": [
    "根据函数文档的描述来看，eval()的作用就是“评估全局或者局部上下文的中源”，听起来像文言文，理解一下，根据给定的字符串来寻找全局或者局部作用于的变量。这样好一点了吧？\n",
    "会到刚才的例子中，再结合函数的文档注释，“The source may be a string representing a Python expression or a code object as returned by compile().”，source可能用一个字符串来表示一个python表达式或者一个被compile()函数返回的对象。\n",
    "一切都清晰了，eval(source)，source就是变量的名字(type: str)。\n",
    "\n",
    "作者：转身丶即天涯\n",
    "链接：https://www.jianshu.com/p/cd149c256686\n",
    "来源：简书\n",
    "著作权归作者所有。商业转载请联系作者获得授权，非商业转载请注明出处。"
   ]
  }
 ],
 "metadata": {
  "kernelspec": {
   "display_name": "base",
   "language": "python",
   "name": "python3"
  },
  "language_info": {
   "codemirror_mode": {
    "name": "ipython",
    "version": 3
   },
   "file_extension": ".py",
   "mimetype": "text/x-python",
   "name": "python",
   "nbconvert_exporter": "python",
   "pygments_lexer": "ipython3",
   "version": "3.9.12"
  },
  "orig_nbformat": 4,
  "vscode": {
   "interpreter": {
    "hash": "88279d2366fe020547cde40dd65aa0e3aa662a6ec1f3ca12d88834876c85e1a6"
   }
  }
 },
 "nbformat": 4,
 "nbformat_minor": 2
}
